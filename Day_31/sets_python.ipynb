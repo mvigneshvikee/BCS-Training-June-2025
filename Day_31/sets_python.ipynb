{
 "cells": [
  {
   "cell_type": "code",
   "execution_count": null,
   "id": "be65ce7a",
   "metadata": {},
   "outputs": [
    {
     "ename": "TypeError",
     "evalue": "set.add() takes exactly one argument (2 given)",
     "output_type": "error",
     "traceback": [
      "\u001b[31m---------------------------------------------------------------------------\u001b[39m",
      "\u001b[31mTypeError\u001b[39m                                 Traceback (most recent call last)",
      "\u001b[36mCell\u001b[39m\u001b[36m \u001b[39m\u001b[32mIn[3]\u001b[39m\u001b[32m, line 10\u001b[39m\n\u001b[32m      8\u001b[39m tech_gadgets\n\u001b[32m      9\u001b[39m more_gadgets = [\u001b[33m'\u001b[39m\u001b[33m🛸 Drone\u001b[39m\u001b[33m'\u001b[39m, \u001b[33m'\u001b[39m\u001b[33m🤳 Selfie stick\u001b[39m\u001b[33m'\u001b[39m]\n\u001b[32m---> \u001b[39m\u001b[32m10\u001b[39m \u001b[43mtech_gadgets\u001b[49m\u001b[43m.\u001b[49m\u001b[43madd\u001b[49m\u001b[43m(\u001b[49m\u001b[43m*\u001b[49m\u001b[43mmore_gadgets\u001b[49m\u001b[43m)\u001b[49m\n",
      "\u001b[31mTypeError\u001b[39m: set.add() takes exactly one argument (2 given)"
     ]
    }
   ],
   "source": [
    "tech_gadgets = {'📱 Smartphone', '💻 Laptop', '⌚ Smartwatch', '📱 Tablet', '📱 Tablet'}\n",
    "\n",
    "tech_gadgets.add('📚 E-reader')\n",
    "tech_gadgets.add('📚 E-reader') # skip\n",
    "tech_gadgets.add('📚 E-reader') # skip\n",
    "tech_gadgets.add('📚 E-reader') # skip\n",
    "\n",
    "tech_gadgets\n",
    "more_gadgets = ['🛸 Drone', '🤳 Selfie stick']\n",
    "tech_gadgets.add(set(more_gadgets))\n"
   ]
  }
 ],
 "metadata": {
  "kernelspec": {
   "display_name": "BCS Training June 2025",
   "language": "python",
   "name": "python3"
  },
  "language_info": {
   "codemirror_mode": {
    "name": "ipython",
    "version": 3
   },
   "file_extension": ".py",
   "mimetype": "text/x-python",
   "name": "python",
   "nbconvert_exporter": "python",
   "pygments_lexer": "ipython3",
   "version": "3.13.6"
  }
 },
 "nbformat": 4,
 "nbformat_minor": 5
}
