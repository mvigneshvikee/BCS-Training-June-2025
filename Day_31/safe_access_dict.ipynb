{
 "cells": [
  {
   "cell_type": "markdown",
   "id": "137bbac5",
   "metadata": {},
   "source": [
    "heroes = [\n",
    "    {\n",
    "        \"name\": \"Steve Rogers 🦸‍♂️\",\n",
    "        \"age\": 100,\n",
    "        \"height\": 185,\n",
    "        \"address\": {\"city\": \"Brooklyn\", \"country\": \"US\"},\n",
    "    },\n",
    "    {\n",
    "        \"name\": \"Peter Parker\",\n",
    "        \"age\": 18,\n",
    "        \"team_name\": \"Avengers\",\n",
    "        \"team\": [\"Iron Man\", \"Thor\", \"Hulk\", \"Captain America\"],\n",
    "    },\n",
    "    {\n",
    "        \"name\": \"Bruce Banner\",\n",
    "        \"age\": 35,\n",
    "    },\n",
    "]\n",
    "\n",
    "\n",
    "Output\n",
    "\n",
    "Steve Rogers 🦸‍♂️ lives in Brooklyn\n",
    "\n",
    "Peter Parker location is Top Secret 🔒\n",
    "  Bruce Banner location is Top Secret 🔒"
   ]
  },
  {
   "cell_type": "code",
   "execution_count": 8,
   "id": "9f141218",
   "metadata": {},
   "outputs": [
    {
     "name": "stdout",
     "output_type": "stream",
     "text": [
      "Steve Rogers 🦸‍♂️ lives in Brooklyn\n",
      "Peter Parker location is Top Secret 🔒\n",
      "Bruce Banner location is Top Secret 🔒\n"
     ]
    }
   ],
   "source": [
    "heroes = [\n",
    "    {\n",
    "        \"name\": \"Steve Rogers 🦸‍♂️\",\n",
    "        \"age\": 100,\n",
    "        \"height\": 185,\n",
    "        \"address\": {\"city\": \"Brooklyn\", \"country\": \"US\"},\n",
    "    },\n",
    "    {\n",
    "        \"name\": \"Peter Parker\",\n",
    "        \"age\": 18,\n",
    "        \"team_name\": \"Avengers\",\n",
    "        \"team\": [\"Iron Man\", \"Thor\", \"Hulk\", \"Captain America\"],\n",
    "    },\n",
    "    {\n",
    "        \"name\": \"Bruce Banner\",\n",
    "        \"age\": 35,\n",
    "    },\n",
    "]\n",
    "\n",
    "for hero in heroes:\n",
    "    if hero.get('address',{}).get('city'):\n",
    "         print(f\"{hero['name']} lives in {hero.get('address',{}).get('city','Top Secret 🔒')}\")\n",
    "    else:\n",
    "        print(f\"{hero['name']} location is {hero.get('address',{}).get('city','Top Secret 🔒')}\")"
   ]
  },
  {
   "cell_type": "code",
   "execution_count": 10,
   "id": "6242e0a4",
   "metadata": {},
   "outputs": [
    {
     "name": "stdout",
     "output_type": "stream",
     "text": [
      "Steve Rogers 🦸‍♂️ lives in Brooklyn\n",
      "Peter Parker location is Top Secret 🔒.\n",
      "Bruce Banner location is Top Secret 🔒.\n"
     ]
    }
   ],
   "source": [
    "for hero in heroes:\n",
    "    city = hero.get('address',{}).get('city')\n",
    "    if city:\n",
    "         print(f\"{hero['name']} lives in {city}\")\n",
    "    else:\n",
    "        print(f\"{hero['name']} location is Top Secret 🔒.\")"
   ]
  },
  {
   "cell_type": "markdown",
   "id": "8f883bef",
   "metadata": {},
   "source": [
    "# Task 1.2\n",
    "\n",
    "employees = [\n",
    "    {\"name\": \"Chelo\", \"experience\": 2},\n",
    "    {\n",
    "        \"name\": \"Diyali\",\n",
    "    },\n",
    "    {\n",
    "        \"name\": \"Luvuyo\",\n",
    "    },\n",
    "    {\"name\": \"Jevan\", \"experience\": 1},\n",
    "]\n",
    "\n",
    "\n",
    "    \n",
    "print(employees)\n",
    "\n",
    " Output\n",
    " [{'name': 'Chelo', 'experience': 3},\n",
    "  {'name': 'Diyali', 'experience': 1},\n",
    "  {'name': 'Luvuyo', 'experience': 1},\n",
    "  {'name': 'Jevan', 'experience': 2}]"
   ]
  },
  {
   "cell_type": "code",
   "execution_count": 5,
   "id": "776496bb",
   "metadata": {},
   "outputs": [
    {
     "name": "stdout",
     "output_type": "stream",
     "text": [
      "[{'name': 'Chelo', 'experience': 3}, {'name': 'Diyali', 'experience': 1}, {'name': 'Luvuyo', 'experience': 1}, {'name': 'Jevan', 'experience': 2}]\n"
     ]
    }
   ],
   "source": [
    "employees = [\n",
    "    {\"name\": \"Chelo\", \"experience\": 2},\n",
    "    {\n",
    "        \"name\": \"Diyali\",\n",
    "    },\n",
    "    {\n",
    "        \"name\": \"Luvuyo\",\n",
    "    },\n",
    "    {\"name\": \"Jevan\", \"experience\": 1},\n",
    "]\n",
    "\n",
    "for employee in employees:\n",
    "    employee[\"experience\"] = employee.get(\"experience\", 0) + 1\n",
    "print(employees)"
   ]
  },
  {
   "cell_type": "code",
   "execution_count": null,
   "id": "92352715",
   "metadata": {},
   "outputs": [
    {
     "ename": "TypeError",
     "evalue": "can only concatenate str (not \"int\") to str",
     "output_type": "error",
     "traceback": [
      "\u001b[31m---------------------------------------------------------------------------\u001b[39m",
      "\u001b[31mTypeError\u001b[39m                                 Traceback (most recent call last)",
      "\u001b[36mCell\u001b[39m\u001b[36m \u001b[39m\u001b[32mIn[6]\u001b[39m\u001b[32m, line 13\u001b[39m\n\u001b[32m      1\u001b[39m employees = [\n\u001b[32m      2\u001b[39m     {\u001b[33m\"\u001b[39m\u001b[33mname\u001b[39m\u001b[33m\"\u001b[39m: \u001b[33m\"\u001b[39m\u001b[33mChelo\u001b[39m\u001b[33m\"\u001b[39m, \u001b[33m\"\u001b[39m\u001b[33mexperience\u001b[39m\u001b[33m\"\u001b[39m: \u001b[32m2\u001b[39m},\n\u001b[32m      3\u001b[39m     {\n\u001b[32m   (...)\u001b[39m\u001b[32m      9\u001b[39m     {\u001b[33m\"\u001b[39m\u001b[33mname\u001b[39m\u001b[33m\"\u001b[39m: \u001b[33m\"\u001b[39m\u001b[33mJevan\u001b[39m\u001b[33m\"\u001b[39m, \u001b[33m\"\u001b[39m\u001b[33mexperience\u001b[39m\u001b[33m\"\u001b[39m: \u001b[32m1\u001b[39m},\n\u001b[32m     10\u001b[39m ]\n\u001b[32m     12\u001b[39m \u001b[38;5;28;01mfor\u001b[39;00m name,experience \u001b[38;5;129;01min\u001b[39;00m employees:\n\u001b[32m---> \u001b[39m\u001b[32m13\u001b[39m    experience = \u001b[43mexperience\u001b[49m\u001b[43m \u001b[49m\u001b[43m+\u001b[49m\u001b[43m \u001b[49m\u001b[32;43m1\u001b[39;49m\n\u001b[32m     14\u001b[39m \u001b[38;5;28mprint\u001b[39m(employees)\n",
      "\u001b[31mTypeError\u001b[39m: can only concatenate str (not \"int\") to str"
     ]
    }
   ],
   "source": [
    "employees = [\n",
    "    {\"name\": \"Chelo\", \"experience\": 2},\n",
    "    {\n",
    "        \"name\": \"Diyali\",\n",
    "    },\n",
    "    {\n",
    "        \"name\": \"Luvuyo\",\n",
    "    },\n",
    "    {\"name\": \"Jevan\", \"experience\": 1},\n",
    "]\n",
    "\n",
    "for name,experience in employees:  # Cannot Unpacking dictionary\n",
    "   experience = experience + 1\n",
    "print(employees)"
   ]
  },
  {
   "cell_type": "markdown",
   "id": "728ecaa5",
   "metadata": {},
   "source": [
    "# Task 1.3\n",
    "\n",
    "\n",
    "inventory = [\n",
    "    {\"name\": \"Apple 🍎\", \"quantity\": 30, \"price\": 0.50},\n",
    "    {\"name\": \"Banana 🍌\", \"quantity\": 20, \"price\": 0.20},\n",
    "]\n",
    "\n",
    "\n",
    "### Output\n",
    " What is the product name? Orange 🍊\n",
    " What is the quantity? 5\n",
    " What is the price? 0.1\n",
    "\n",
    " Would you like add another product? (Y/N) N\n",
    " Bye 😉\n",
    "\n",
    "\n",
    "print(inventory)\n",
    " [\n",
    "     {\"name\": \"Apple 🍎\", \"quantity\": 30, \"price\": 0.50},\n",
    "     {\"name\": \"Banana 🍌\", \"quantity\": 20, \"price\": 0.20},\n",
    "     {\"name\": \"Orange 🍊\", \"quantity\": 5, \"price\": 0.1},\n",
    " ]"
   ]
  },
  {
   "cell_type": "code",
   "execution_count": null,
   "id": "320782c7",
   "metadata": {},
   "outputs": [
    {
     "name": "stdout",
     "output_type": "stream",
     "text": [
      "[{'name': 'Apple 🍎', 'quantity': 30, 'price': 0.5}, {'name': 'Banana 🍌', 'quantity': 20, 'price': 0.2}, {'name': 'papaya', 'quantity': 80, 'price': 0.89}]\n"
     ]
    }
   ],
   "source": [
    "inventory = [\n",
    "    {\"name\": \"Apple 🍎\", \"quantity\": 30, \"price\": 0.50},\n",
    "    {\"name\": \"Banana 🍌\", \"quantity\": 20, \"price\": 0.20},\n",
    "]\n",
    "add_inventory = True\n",
    "new_item ={}\n",
    "while add_inventory:\n",
    "    product_name = input(\"What is the product name? \")\n",
    "    quantity = int(input(\"What is the quantity? \"))\n",
    "    price = float(input(\"What is the price? \"))\n",
    "    new_item[\"name\"] = product_name\n",
    "    new_item['quantity'] = quantity\n",
    "    new_item['price'] = price\n",
    "    inventory.append(new_item)\n",
    "    add_new = input('Would you like add another product? (Y/N)?: ').upper()\n",
    "    if add_new != 'Y':\n",
    "        add_inventory = False\n",
    "print(inventory)"
   ]
  }
 ],
 "metadata": {
  "kernelspec": {
   "display_name": "BCS Training June 2025",
   "language": "python",
   "name": "python3"
  },
  "language_info": {
   "codemirror_mode": {
    "name": "ipython",
    "version": 3
   },
   "file_extension": ".py",
   "mimetype": "text/x-python",
   "name": "python",
   "nbconvert_exporter": "python",
   "pygments_lexer": "ipython3",
   "version": "3.13.6"
  }
 },
 "nbformat": 4,
 "nbformat_minor": 5
}
