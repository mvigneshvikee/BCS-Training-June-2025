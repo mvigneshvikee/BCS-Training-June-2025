{
 "cells": [
  {
   "cell_type": "code",
   "execution_count": 2,
   "id": "ee76d8a3",
   "metadata": {},
   "outputs": [
    {
     "name": "stdout",
     "output_type": "stream",
     "text": [
      "[{'title': 'Inception', 'ratings': [5, 4, 5, 4, 5]}, {'title': 'Interstellar', 'ratings': [5, 5, 4, 5, 4]}, {'title': 'Dunkirk', 'ratings': [4, 4, 4, 3, 4]}, {'title': 'The Dark Knight', 'ratings': [5, 5, 5, 5, 5]}, {'title': 'Memento', 'ratings': [4, 5, 4, 5, 4]}]\n"
     ]
    }
   ],
   "source": [
    "movies = [\n",
    "    {\n",
    "        \"title\": \"Inception\",\n",
    "        \"ratings\": [5, 4, 5, 4, 5]\n",
    "    },\n",
    "    {\n",
    "        \"title\": \"Interstellar\",\n",
    "        \"ratings\": [5, 5, 4, 5, 4]\n",
    "    },\n",
    "    {\n",
    "        \"title\": \"Dunkirk\",\n",
    "        \"ratings\": [4, 4, 4, 3, 4]\n",
    "    },\n",
    "    {\n",
    "        \"title\": \"The Dark Knight\",\n",
    "        \"ratings\": [5, 5, 5, 5, 5]\n",
    "    },\n",
    "    {\n",
    "        \"title\": \"Memento\",\n",
    "        \"ratings\": [4, 5, 4, 5, 4]\n",
    "    },\n",
    "]\n",
    "print(movies)"
   ]
  },
  {
   "cell_type": "markdown",
   "id": "4c3659c9",
   "metadata": {},
   "source": [
    "Task 1.1\n",
    "With List Comp\n",
    "\n",
    "get_titles(movies)\n",
    "\n",
    "Output\n",
    "[\"Inception\", \"Interstellar\", \"Dunkirk\", \"The Dark Knight\", \"Memento\"]"
   ]
  },
  {
   "cell_type": "code",
   "execution_count": 3,
   "id": "9a330829",
   "metadata": {},
   "outputs": [
    {
     "data": {
      "text/plain": [
       "['Inception', 'Interstellar', 'Dunkirk', 'The Dark Knight', 'Memento']"
      ]
     },
     "execution_count": 3,
     "metadata": {},
     "output_type": "execute_result"
    }
   ],
   "source": [
    "def get_titles(movies):\n",
    "    title = [movie['title'] for movie in movies]\n",
    "    return title\n",
    "get_titles(movies)"
   ]
  },
  {
   "cell_type": "markdown",
   "id": "b9a9faa5",
   "metadata": {},
   "source": [
    "Task 1.2\n",
    "Average rating of each movie\n",
    "\n",
    "get_avgs(movies)\n",
    "\n",
    "Clue\n",
    "sum()\n",
    "\n",
    "Output\n",
    " [ 4.6, 4.2, 4.1, 5, 4.2]"
   ]
  },
  {
   "cell_type": "code",
   "execution_count": 4,
   "id": "00fbe340",
   "metadata": {},
   "outputs": [
    {
     "data": {
      "text/plain": [
       "[4.6, 4.6, 3.8, 5.0, 4.4]"
      ]
     },
     "execution_count": 4,
     "metadata": {},
     "output_type": "execute_result"
    }
   ],
   "source": [
    "def get_avgs(movies):\n",
    "    avg_result = [sum(movie['ratings'])/len(movie['ratings'])for movie in movies ]\n",
    "    return avg_result\n",
    "get_avgs(movies)\n"
   ]
  },
  {
   "cell_type": "markdown",
   "id": "9c408c38",
   "metadata": {},
   "source": [
    "Task 2\n",
    "You are given the following data:\n",
    "\n",
    "guests = [{\n",
    "    \"name\": \"Alice\",\n",
    "    \"age\": 25,\n",
    "    \"code\": \"VIP123\"\n",
    "}, {\n",
    "    \"name\": \"Bob\",\n",
    "    \"age\": 17,\n",
    "    \"code\": \"VIP123\"\n",
    "}, {\n",
    "    \"name\": \"Charlie\",\n",
    "    \"age\": 30,\n",
    "    \"code\": \"VIP123\"\n",
    "}, {\n",
    "    \"name\": \"Dave\",\n",
    "    \"age\": 22,\n",
    "    \"code\": \"GUEST\"\n",
    "}, {\n",
    "    \"name\": \"Eve\",\n",
    "    \"age\": 29,\n",
    "    \"code\": \"VIP123\"\n",
    "}]\n",
    "\n",
    "blacklist = [\"Dave\", \"Eve\"]\n",
    "\n",
    "PASS_CODE = \"VIP123\"\n",
    "Task:\n",
    "Select people who are 21 years or above\n",
    "Must have the VIP123 code\n",
    "Exclude anyone in the blacklist\n",
    "Expected Output:\n",
    "guestlist = [\"Alice\", \"Charlie\"]"
   ]
  },
  {
   "cell_type": "code",
   "execution_count": 5,
   "id": "283d3b2c",
   "metadata": {},
   "outputs": [
    {
     "name": "stdout",
     "output_type": "stream",
     "text": [
      "['Alice', 'Charlie']\n"
     ]
    }
   ],
   "source": [
    "guests = [{\n",
    "    \"name\": \"Alice\",\n",
    "    \"age\": 25,\n",
    "    \"code\": \"VIP123\"\n",
    "}, {\n",
    "    \"name\": \"Bob\",\n",
    "    \"age\": 17,\n",
    "    \"code\": \"VIP123\"\n",
    "}, {\n",
    "    \"name\": \"Charlie\",\n",
    "    \"age\": 30,\n",
    "    \"code\": \"VIP123\"\n",
    "}, {\n",
    "    \"name\": \"Dave\",\n",
    "    \"age\": 22,\n",
    "    \"code\": \"GUEST\"\n",
    "}, {\n",
    "    \"name\": \"Eve\",\n",
    "    \"age\": 29,\n",
    "    \"code\": \"VIP123\"\n",
    "}]\n",
    "\n",
    "blacklist = [\"Dave\", \"Eve\"]\n",
    "\n",
    "PASS_CODE = \"VIP123\"\n",
    "guestlist =[]\n",
    "for guest in guests:\n",
    "    if guest['age'] > 21 and guest['code'] == 'VIP123' and guest['name'] not in blacklist:\n",
    "        guestlist.append(guest['name'])\n",
    "print(guestlist)\n",
    "\n"
   ]
  },
  {
   "cell_type": "code",
   "execution_count": null,
   "id": "5c8ca399",
   "metadata": {},
   "outputs": [
    {
     "name": "stdout",
     "output_type": "stream",
     "text": [
      "['Alice', 'Charlie']\n"
     ]
    }
   ],
   "source": [
    "guestlist = [\n",
    "    guest[\"name\"]\n",
    "    for guest in guests\n",
    "    if guest[\"age\"] > 21\n",
    "    and guest[\"code\"] == \"VIP123\"\n",
    "    and guest[\"name\"] not in blacklist\n",
    "]\n",
    "print(guestlist)"
   ]
  },
  {
   "cell_type": "markdown",
   "id": "cd98e225",
   "metadata": {},
   "source": [
    "Task 3\n",
    "You are building a Library App.\n",
    "The app should provide a simple menu to:\n",
    "3.1. Add books\n",
    "3.2. Print all books\n",
    "3.3. Exit the application\n",
    "\n",
    "Expected Console Flow\n",
    "Welcome to our Library app  \n",
    "Main menu:  \n",
    "1. Add book to the library  \n",
    "2. Print all the books  \n",
    "3. Exit  \n",
    "\n",
    "Please choose an option: 1  \n",
    "Please tell me the title?  \n",
    "Please tell me the author?  \n",
    "Please tell me the year?  \n",
    "Please tell me the available?  \n",
    "\n",
    "Successfully added 😄✅  \n",
    "\n",
    "Main menu:  \n",
    "1. Add book to the library  \n",
    "2. Print all the books  \n",
    "3. Exit  \n",
    "\n",
    "Please choose an option: 2  \n",
    "\n",
    "[\n",
    "    {\n",
    "        \"title\": \"Python Programming\",\n",
    "        \"author\": \"Eric Matthes\",\n",
    "        \"year\": 2019,\n",
    "        \"available\": true\n",
    "    },\n",
    "    {\n",
    "        \"title\": \"Automate the Boring Stuff with Python\",\n",
    "        \"author\": \"Al Sweigart\",\n",
    "        \"year\": 2020,\n",
    "        \"available\": true\n",
    "    },\n",
    "    {\n",
    "        \"title\": \"Learning Python I\",\n",
    "        \"author\": \"Mark Lutz\",\n",
    "        \"year\": 2013,\n",
    "        \"available\": false\n",
    "    },\n",
    "    {\n",
    "        \"title\": \"Fluent Python\",\n",
    "        \"author\": \"Luciano Ramalho\",\n",
    "        \"year\": 2015,\n",
    "        \"available\": true\n",
    "    },\n",
    "    {\n",
    "        \"title\": \"Adavance Python\",\n",
    "        \"author\": \"Mark Lutz\",\n",
    "        \"year\": 2015,\n",
    "        \"available\": false\n",
    "    }\n",
    "]\n",
    "\n",
    "Main menu:  \n",
    "1. Add book to the library  \n",
    "2. Print all the books  \n",
    "3. Exit  \n",
    "\n",
    "Please choose an option: 3  \n",
    "Bye 😄👋  \n",
    "Starter Code\n",
    "def add_book():\n",
    "    pass  # Implement book input and append to list\n",
    "\n",
    "def print_books():\n",
    "    pass  # Print list of books\n",
    "\n",
    "def exit_book_app():\n",
    "    pass  # Exit the application"
   ]
  },
  {
   "cell_type": "code",
   "execution_count": 16,
   "id": "02e358e3",
   "metadata": {},
   "outputs": [
    {
     "name": "stdout",
     "output_type": "stream",
     "text": [
      "Welcome to our Library app\n",
      "Main menu:\n",
      "1. Add book to the library\n",
      "2. Print all the books\n",
      "3. Exit\n",
      "Successfully added 😄✅ \n",
      "Main menu:\n",
      "1. Add book to the library\n",
      "2. Print all the books\n",
      "3. Exit\n",
      "[{'title': 'Python Programming', 'author': 'Eric Matthes', 'year': 2019, 'available': True}, {'title': 'Automate the Boring Stuff with Python', 'author': 'Al Sweigart', 'year': 2020, 'available': True}, {'title': 'Learning Python I', 'author': 'Mark Lutz', 'year': 2013, 'available': False}, {'title': 'Fluent Python', 'author': 'Luciano Ramalho', 'year': 2015, 'available': True}, {'title': 'Adavance Python', 'author': 'Mark Lutz', 'year': 2015, 'available': False}, {'title': 'Leo', 'author': 'Loki', 'year': 2022, 'available': 'True'}]\n",
      "Main menu:\n",
      "1. Add book to the library\n",
      "2. Print all the books\n",
      "3. Exit\n",
      "Bye 😄👋\n"
     ]
    }
   ],
   "source": [
    "articles = [\n",
    "    {\n",
    "        \"title\": \"Python Programming\",\n",
    "        \"author\": \"Eric Matthes\",\n",
    "        \"year\": 2019,\n",
    "        \"available\": True\n",
    "    },\n",
    "    {\n",
    "        \"title\": \"Automate the Boring Stuff with Python\",\n",
    "        \"author\": \"Al Sweigart\",\n",
    "        \"year\": 2020,\n",
    "        \"available\": True\n",
    "    },\n",
    "    {\n",
    "        \"title\": \"Learning Python I\",\n",
    "        \"author\": \"Mark Lutz\",\n",
    "        \"year\": 2013,\n",
    "        \"available\": False\n",
    "    },\n",
    "    {\n",
    "        \"title\": \"Fluent Python\",\n",
    "        \"author\": \"Luciano Ramalho\",\n",
    "        \"year\": 2015,\n",
    "        \"available\": True\n",
    "    },\n",
    "    {\n",
    "        \"title\": \"Adavance Python\",\n",
    "        \"author\": \"Mark Lutz\",\n",
    "        \"year\": 2015,\n",
    "        \"available\": False\n",
    "    }\n",
    "]\n",
    "\n",
    "def add_book():\n",
    "    title= input(\"Please tell me the title?\")\n",
    "    author= input(\"Please tell me the author?\")\n",
    "    year= int(input(\"Please tell me the year?\"))\n",
    "    available= input(\"Please tell me the available (True/False)?\").title()\n",
    "    articles.append({'title':title,'author':author,'year':year,'available':available})\n",
    "    return (\"Successfully added 😄✅ \")\n",
    "\n",
    "def print_books(articles):\n",
    "    return articles\n",
    "\n",
    "def exit_book_app():\n",
    "    return False\n",
    "    \n",
    "\n",
    "condition = True\n",
    "print(\"Welcome to our Library app\")\n",
    "while condition:\n",
    "    print(\"Main menu:\")\n",
    "    print(\"1. Add book to the library\")\n",
    "    print(\"2. Print all the books\")\n",
    "    print(\"3. Exit\")\n",
    "\n",
    "    option = int(input(\"Please choose an option:\"))\n",
    "    if option != 1 and option != 2 and option != 3 :\n",
    "        print(\"Invalid Key\")\n",
    "        continue\n",
    "    elif option == 1:\n",
    "        print(add_book())\n",
    "    elif option == 2:\n",
    "        print(print_books(articles))\n",
    "    else:\n",
    "        print(\"Bye 😄👋\")\n",
    "        condition=exit_book_app()\n",
    "\n",
    "\n",
    "\n",
    "\n",
    "\n"
   ]
  }
 ],
 "metadata": {
  "kernelspec": {
   "display_name": "BCS Training June 2025",
   "language": "python",
   "name": "python3"
  },
  "language_info": {
   "codemirror_mode": {
    "name": "ipython",
    "version": 3
   },
   "file_extension": ".py",
   "mimetype": "text/x-python",
   "name": "python",
   "nbconvert_exporter": "python",
   "pygments_lexer": "ipython3",
   "version": "3.13.6"
  }
 },
 "nbformat": 4,
 "nbformat_minor": 5
}
