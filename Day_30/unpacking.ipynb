{
 "cells": [
  {
   "cell_type": "markdown",
   "id": "f4102b5d",
   "metadata": {},
   "source": [
    "## Task 1.1 (Without Unpacking)\n",
    "\n",
    "points = [(3, 4), (6, 12) , (10, 13)]\n",
    "\n",
    "### Expected Output\n",
    "#### distances = [5.0, 13.42, 16.4]\n",
    "\n",
    "#### Clue: round()"
   ]
  },
  {
   "cell_type": "code",
   "execution_count": 4,
   "id": "0dd68d0d",
   "metadata": {},
   "outputs": [
    {
     "name": "stdout",
     "output_type": "stream",
     "text": [
      "[5.0, 13.42, 16.4]\n"
     ]
    }
   ],
   "source": [
    "points = [(3, 4), (6, 12) , (10, 13)]\n",
    "distances = []\n",
    "for point in points:\n",
    "    p1,p2 = point\n",
    "    c = (p1**2 + p2**2)**0.5\n",
    "    distances.append(round(c,2))\n",
    "print(distances)"
   ]
  },
  {
   "cell_type": "code",
   "execution_count": 5,
   "id": "24555783",
   "metadata": {},
   "outputs": [
    {
     "name": "stdout",
     "output_type": "stream",
     "text": [
      "[5.0, 13.42, 16.4]\n"
     ]
    }
   ],
   "source": [
    "points = [(3, 4), (6, 12) , (10, 13)]\n",
    "distances = []\n",
    "for point in points:\n",
    "    \n",
    "    c = (point[0]**2 + point[1]**2)**0.5\n",
    "    distances.append(round(c,2))\n",
    "print(distances)"
   ]
  }
 ],
 "metadata": {
  "kernelspec": {
   "display_name": "BCS Training June 2025",
   "language": "python",
   "name": "python3"
  },
  "language_info": {
   "codemirror_mode": {
    "name": "ipython",
    "version": 3
   },
   "file_extension": ".py",
   "mimetype": "text/x-python",
   "name": "python",
   "nbconvert_exporter": "python",
   "pygments_lexer": "ipython3",
   "version": "3.13.6"
  }
 },
 "nbformat": 4,
 "nbformat_minor": 5
}
