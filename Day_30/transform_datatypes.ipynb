{
 "cells": [
  {
   "cell_type": "markdown",
   "id": "ff2b450d",
   "metadata": {},
   "source": [
    "# Task 1.1 \n",
    "\n",
    "scrambled_message = \"world the save to time no is there\"\n",
    "\n",
    "# Output\n",
    "# there is no time to save the world"
   ]
  },
  {
   "cell_type": "code",
   "execution_count": 7,
   "id": "688449fb",
   "metadata": {},
   "outputs": [
    {
     "name": "stdout",
     "output_type": "stream",
     "text": [
      "there is no time to save the world\n"
     ]
    }
   ],
   "source": [
    "scrambled_message = \"world the save to time no is there\"\n",
    "convert_list = scrambled_message.split(\" \")\n",
    "reverse_list = convert_list[::-1]\n",
    "result = \" \".join(reverse_list)\n",
    "print(result)"
   ]
  },
  {
   "cell_type": "markdown",
   "id": "bfd4f254",
   "metadata": {},
   "source": [
    "Task 1.2\n",
    "playlist = \"🎵Dancing Queen;🎸Sweet Child O' Mine;🎹Piano Man;🎤Bohemian Rhapsody;🎺All That Jazz\"\n",
    "Output\n",
    "My favorite playlist:\n",
    "\n",
    "🎵Dancing Queen\n",
    "🎸Sweet Child O' Mine\n",
    "🎹Piano Man\n",
    "🎤Bohemian Rhapsody\n",
    "🎺All That Jazz"
   ]
  },
  {
   "cell_type": "code",
   "execution_count": null,
   "id": "46d258b1",
   "metadata": {},
   "outputs": [
    {
     "name": "stdout",
     "output_type": "stream",
     "text": [
      "My favorite playlist:\n",
      "1. 🎵Dancing Queen\n",
      "2. 🎸Sweet Child O' Mine\n",
      "3. 🎹Piano Man\n",
      "4. 🎤Bohemian Rhapsody\n",
      "5. 🎺All That Jazz\n"
     ]
    }
   ],
   "source": [
    "playlist = \"🎵Dancing Queen;🎸Sweet Child O' Mine;🎹Piano Man;🎤Bohemian Rhapsody;🎺All That Jazz\"\n",
    "convert_list = playlist.split(\";\")\n",
    "print(\"My favorite playlist:\")\n",
    "for i in range(len(convert_list)):\n",
    "    print(f\"{i+1}. {convert_list[i]}\")\n",
    "   "
   ]
  }
 ],
 "metadata": {
  "kernelspec": {
   "display_name": "BCS Training June 2025",
   "language": "python",
   "name": "python3"
  },
  "language_info": {
   "codemirror_mode": {
    "name": "ipython",
    "version": 3
   },
   "file_extension": ".py",
   "mimetype": "text/x-python",
   "name": "python",
   "nbconvert_exporter": "python",
   "pygments_lexer": "ipython3",
   "version": "3.13.6"
  }
 },
 "nbformat": 4,
 "nbformat_minor": 5
}
