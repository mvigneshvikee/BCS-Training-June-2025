{
 "cells": [
  {
   "cell_type": "code",
   "execution_count": null,
   "id": "1196701a",
   "metadata": {},
   "outputs": [],
   "source": [
    "# Print odd numbers only using for loop\n",
    "\n",
    "for i in range(1,10,2):\n",
    "    print(i)"
   ]
  },
  {
   "cell_type": "code",
   "execution_count": 1,
   "id": "dcf0563a",
   "metadata": {},
   "outputs": [
    {
     "name": "stdout",
     "output_type": "stream",
     "text": [
      "🔥\n",
      "🔥🔥\n",
      "🔥🔥🔥\n",
      "🔥🔥🔥🔥\n",
      "🔥🔥🔥🔥🔥\n"
     ]
    }
   ],
   "source": [
    "i =1\n",
    "while i <=5: \n",
    "    print(\"🔥\" * i)\n",
    "    i= i +1"
   ]
  },
  {
   "cell_type": "code",
   "execution_count": 2,
   "id": "f7a480ae",
   "metadata": {},
   "outputs": [
    {
     "name": "stdout",
     "output_type": "stream",
     "text": [
      "🔥\n",
      "🔥🔥\n",
      "🔥🔥🔥\n",
      "🔥🔥🔥🔥\n",
      "🔥🔥🔥🔥🔥\n"
     ]
    }
   ],
   "source": [
    "for i in range(1,6):\n",
    "    print(\"🔥\" * i)"
   ]
  },
  {
   "cell_type": "code",
   "execution_count": null,
   "id": "e2edc69e",
   "metadata": {},
   "outputs": [
    {
     "name": "stdout",
     "output_type": "stream",
     "text": [
      "🧡\n",
      "🧡🧡\n",
      "🧡🧡🧡\n",
      "🧡🧡🧡🧡\n",
      "🧡🧡🧡🧡🧡\n"
     ]
    }
   ],
   "source": [
    "# Task 1.3\n",
    "count = int(input(\"Please tell the no of rows?: \"))\n",
    "pattern = input(\"Please tell the no of pattern?: \")\n",
    "\n",
    "for i in range(1,count +1):\n",
    "    print(f\"{pattern}\" * i)"
   ]
  },
  {
   "cell_type": "code",
   "execution_count": null,
   "id": "73280188",
   "metadata": {},
   "outputs": [
    {
     "name": "stdout",
     "output_type": "stream",
     "text": [
      "💚\n",
      "💚💚\n",
      "💚💚💚\n",
      "💚💚💚💚\n",
      "💚💚💚💚💚\n",
      "💚💚💚💚💚💚\n"
     ]
    }
   ],
   "source": [
    "# Task 1.4\n",
    "\n",
    "\n",
    "while True:\n",
    "     count = int(input(\"Please tell the no of rows?: \"))\n",
    "     pattern = input(\"Please tell the no of pattern?: \")\n",
    "     for i in range(1,count +1):\n",
    "             print(f\"{pattern}\" * i)\n",
    "     condition = input(\"Do you want to try again (Y/N)?:\").upper().strip()\n",
    "     if condition !='Y':\n",
    "        break\n",
    "               \n",
    "   \n",
    "\n"
   ]
  },
  {
   "cell_type": "markdown",
   "id": "1fbf9c68",
   "metadata": {},
   "source": [
    "Task 2.1\n",
    "Print each number in separate line with index\n",
    "\n",
    "marks = [80, 90, 100, 60, 85]\n",
    "index:0, value: 80\n",
    "index:1, value: 90\n",
    "index:2, value: 100\n",
    "index:3, value: 60\n",
    "index:4, value: 85"
   ]
  },
  {
   "cell_type": "code",
   "execution_count": 6,
   "id": "3509003e",
   "metadata": {},
   "outputs": [
    {
     "name": "stdout",
     "output_type": "stream",
     "text": [
      "index:0, value: 80\n",
      "index:1, value: 90\n",
      "index:2, value: 100\n",
      "index:3, value: 60\n",
      "index:4, value: 85\n"
     ]
    }
   ],
   "source": [
    "marks = [80, 90, 100, 60, 85]\n",
    "for i in range(0,len(marks)):\n",
    "    print(f\"index:{i}, value: {marks[i]}\")"
   ]
  },
  {
   "cell_type": "markdown",
   "id": "8b6098df",
   "metadata": {},
   "source": [
    "Task 2.2\n",
    "Find the letters in each characters name and stored in a new list\n",
    "\n",
    "avengers = [\n",
    "    \"Hulk\",\n",
    "    \"Iron man\",\n",
    "    \"Black widow\",\n",
    "    \"Captain america\",\n",
    "    \"Spider man\",\n",
    "    \"Thor\",\n",
    "]\n",
    "Output\n",
    "[4, 8, 11, 15, 10, 4]\n",
    "\n",
    "tab \n",
    "shift + tab"
   ]
  },
  {
   "cell_type": "code",
   "execution_count": null,
   "id": "5dd32a3a",
   "metadata": {},
   "outputs": [
    {
     "name": "stdout",
     "output_type": "stream",
     "text": [
      "[4, 8, 11, 15, 10, 4]\n"
     ]
    }
   ],
   "source": [
    "avengers = [\n",
    "    \"Hulk\",\n",
    "    \"Iron man\",\n",
    "    \"Black widow\",\n",
    "    \"Captain america\",\n",
    "    \"Spider man\",\n",
    "    \"Thor\",\n",
    "]\n",
    "result = []\n",
    "for i in range(0, len(avengers)):\n",
    "    result.append(len(avengers[i]))\n",
    "print(result)\n"
   ]
  },
  {
   "cell_type": "code",
   "execution_count": 13,
   "id": "daf4a6e3",
   "metadata": {},
   "outputs": [
    {
     "name": "stdout",
     "output_type": "stream",
     "text": [
      "[4, 8, 11, 15, 10, 4]\n"
     ]
    }
   ],
   "source": [
    "result_1 =[]\n",
    "for avenger in avengers:\n",
    "    result_1.append(len(avenger))\n",
    "\n",
    "print(result_1)"
   ]
  },
  {
   "cell_type": "markdown",
   "id": "f7319967",
   "metadata": {},
   "source": [
    "Task 2.3\n",
    "Find longer names more the 10 letters name and stored in a new list\n",
    "\n",
    "Output\n",
    "[\"Black widow\", \"Captain america\"]"
   ]
  },
  {
   "cell_type": "code",
   "execution_count": 10,
   "id": "ae9ea2dd",
   "metadata": {},
   "outputs": [
    {
     "name": "stdout",
     "output_type": "stream",
     "text": [
      "['Black widow', 'Captain america']\n"
     ]
    }
   ],
   "source": [
    "new_list =[]\n",
    "for i in range(0, len(avengers)):\n",
    "    if len(avengers[i]) > 10:\n",
    "        new_list.append(avengers[i])\n",
    "print(new_list)"
   ]
  },
  {
   "cell_type": "code",
   "execution_count": 14,
   "id": "39bed1f3",
   "metadata": {},
   "outputs": [
    {
     "name": "stdout",
     "output_type": "stream",
     "text": [
      "['Black widow', 'Captain america']\n"
     ]
    }
   ],
   "source": [
    "list_2 = []\n",
    "for avenger in avengers:\n",
    "    if len(avenger) > 10 :\n",
    "        list_2.append(avenger)\n",
    "print(list_2)"
   ]
  }
 ],
 "metadata": {
  "kernelspec": {
   "display_name": "BCS Training June 2025",
   "language": "python",
   "name": "python3"
  },
  "language_info": {
   "codemirror_mode": {
    "name": "ipython",
    "version": 3
   },
   "file_extension": ".py",
   "mimetype": "text/x-python",
   "name": "python",
   "nbconvert_exporter": "python",
   "pygments_lexer": "ipython3",
   "version": "3.13.6"
  }
 },
 "nbformat": 4,
 "nbformat_minor": 5
}
