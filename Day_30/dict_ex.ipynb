{
 "cells": [
  {
   "cell_type": "markdown",
   "id": "3d665838",
   "metadata": {},
   "source": [
    "Task 1.1\n",
    "Please provide the list of book titles\n",
    "\n",
    "books = [\n",
    "    {\"title\": \"Infinite Jest\", \"rating\": 4.5, \"genre\": \"Fiction\"},\n",
    "    {\"title\": \"The Catcher in the Rye\", \"rating\": 3.9, \"genre\": \"Fiction\"},\n",
    "    {\"title\": \"Sapiens\", \"rating\": 4.9, \"genre\": \"History\"},\n",
    "    {\"title\": \"A Brief History of Time\", \"rating\": 4.8, \"genre\": \"Science\"},\n",
    "    {\"title\": \"Clean Code\", \"rating\": 4.7, \"genre\": \"Technology\"},\n",
    "]\n",
    "Expected Output\n",
    "[\"Infinite Jest\",  \"The Catcher in the Rye\", \"Sapiens\",  \"A Brief History of Time\",  \"Clean Code\"]"
   ]
  },
  {
   "cell_type": "code",
   "execution_count": 1,
   "id": "29162b8a",
   "metadata": {},
   "outputs": [
    {
     "name": "stdout",
     "output_type": "stream",
     "text": [
      "['Infinite Jest', 'The Catcher in the Rye', 'Sapiens', 'A Brief History of Time', 'Clean Code']\n"
     ]
    }
   ],
   "source": [
    "books = [\n",
    "    {\"title\": \"Infinite Jest\", \"rating\": 4.5, \"genre\": \"Fiction\"},\n",
    "    {\"title\": \"The Catcher in the Rye\", \"rating\": 3.9, \"genre\": \"Fiction\"},\n",
    "    {\"title\": \"Sapiens\", \"rating\": 4.9, \"genre\": \"History\"},\n",
    "    {\"title\": \"A Brief History of Time\", \"rating\": 4.8, \"genre\": \"Science\"},\n",
    "    {\"title\": \"Clean Code\", \"rating\": 4.7, \"genre\": \"Technology\"},\n",
    "]\n",
    "result = []\n",
    "for book in books:\n",
    "    result.append(book['title'])\n",
    "print(result)"
   ]
  },
  {
   "cell_type": "markdown",
   "id": "0fcaa0f8",
   "metadata": {},
   "source": [
    "## Task 1.2\n",
    "Please provide the only Fiction books\n",
    "\n",
    "\n",
    "### Expected Output\n",
    "```\n",
    "[\"Infinite Jest\",  \"The Catcher in the Rye\"]\n",
    "```"
   ]
  },
  {
   "cell_type": "code",
   "execution_count": 6,
   "id": "dad9912d",
   "metadata": {},
   "outputs": [
    {
     "name": "stdout",
     "output_type": "stream",
     "text": [
      "['Infinite Jest', 'The Catcher in the Rye']\n"
     ]
    }
   ],
   "source": [
    "books = [\n",
    "    {\"title\": \"Infinite Jest\", \"rating\": 4.5, \"genre\": \"Fiction\"},\n",
    "    {\"title\": \"The Catcher in the Rye\", \"rating\": 3.9, \"genre\": \"Fiction\"},\n",
    "    {\"title\": \"Sapiens\", \"rating\": 4.9, \"genre\": \"History\"},\n",
    "    {\"title\": \"A Brief History of Time\", \"rating\": 4.8, \"genre\": \"Science\"},\n",
    "    {\"title\": \"Clean Code\", \"rating\": 4.7, \"genre\": \"Technology\"},\n",
    "]\n",
    "result = []\n",
    "for book in books:\n",
    "    if book['genre'] == \"Fiction\":\n",
    "        result.append(book['title'])\n",
    "print(result)"
   ]
  },
  {
   "cell_type": "markdown",
   "id": "68a30614",
   "metadata": {},
   "source": [
    "Task 1.3 (Challenging)\n",
    "Please provide Highest rated books (>= 4.7)\n",
    "\n",
    "Expected Output\n",
    "Highest rated books are: Sapiens, A Brief History of Time and Clean Code "
   ]
  },
  {
   "cell_type": "code",
   "execution_count": 10,
   "id": "3ca57e25",
   "metadata": {},
   "outputs": [
    {
     "name": "stdout",
     "output_type": "stream",
     "text": [
      "Highest rated books are: Sapiens, A Brief History of Time and Clean Code\n"
     ]
    }
   ],
   "source": [
    "books = [\n",
    "    {\"title\": \"Infinite Jest\", \"rating\": 4.5, \"genre\": \"Fiction\"},\n",
    "    {\"title\": \"The Catcher in the Rye\", \"rating\": 3.9, \"genre\": \"Fiction\"},\n",
    "    {\"title\": \"Sapiens\", \"rating\": 4.9, \"genre\": \"History\"},\n",
    "    {\"title\": \"A Brief History of Time\", \"rating\": 4.8, \"genre\": \"Science\"},\n",
    "    {\"title\": \"Clean Code\", \"rating\": 4.7, \"genre\": \"Technology\"},\n",
    "]\n",
    "result = []\n",
    "for book in books:\n",
    "    if book['rating'] >=4.7:\n",
    "        result.append(book['title'])\n",
    "print(f\"Highest rated books are: {\", \".join(result[0:len(result) - 1])} and {result[-1]}\")"
   ]
  },
  {
   "cell_type": "markdown",
   "id": "916e9a8c",
   "metadata": {},
   "source": [
    "Task 1.4\n",
    "Continuation of Task 1.3 and make sure handle the below cases\n",
    "\n",
    "Case 1: There no books which are >= 4.7\n",
    "The are no good books available 😔\n",
    "\n",
    "Case 2: There is only one\n",
    "Highest rated books is Sapiens\n",
    "\n",
    "Case 3: There are two or more\n",
    "Highest rated books are: Sapiens, A Brief History of Time and Clean Code"
   ]
  },
  {
   "cell_type": "code",
   "execution_count": null,
   "id": "5e8cc69d",
   "metadata": {},
   "outputs": [
    {
     "name": "stdout",
     "output_type": "stream",
     "text": [
      "Highest rated books are: Infinite Jest, Sapiens, A Brief History of Time and Clean Code\n"
     ]
    }
   ],
   "source": [
    "books = [\n",
    "    {\"title\": \"Infinite Jest\", \"rating\": 4.5, \"genre\": \"Fiction\"},\n",
    "    {\"title\": \"The Catcher in the Rye\", \"rating\": 3.9, \"genre\": \"Fiction\"},\n",
    "    {\"title\": \"Sapiens\", \"rating\": 4.9, \"genre\": \"History\"},\n",
    "    {\"title\": \"A Brief History of Time\", \"rating\": 4.8, \"genre\": \"Science\"},\n",
    "    {\"title\": \"Clean Code\", \"rating\": 4.7, \"genre\": \"Technology\"},\n",
    "]\n",
    "result = []\n",
    "for book in books:\n",
    "    if book['rating'] >=4.5:\n",
    "        result.append(book['title'])\n",
    "\n",
    "if len(result) == 0:\n",
    "    print(\"The are no good books available 😔\")\n",
    "elif len(result) == 1:\n",
    "    print(f\"Highest rated book is {\" \".join(result)}\")\n",
    "else:\n",
    "    print(f\"Highest rated books are: {\", \".join(result[:-1])} and {result[-1]}\")\n",
    "\n",
    "\n"
   ]
  }
 ],
 "metadata": {
  "kernelspec": {
   "display_name": "BCS Training June 2025",
   "language": "python",
   "name": "python3"
  },
  "language_info": {
   "codemirror_mode": {
    "name": "ipython",
    "version": 3
   },
   "file_extension": ".py",
   "mimetype": "text/x-python",
   "name": "python",
   "nbconvert_exporter": "python",
   "pygments_lexer": "ipython3",
   "version": "3.13.6"
  }
 },
 "nbformat": 4,
 "nbformat_minor": 5
}
