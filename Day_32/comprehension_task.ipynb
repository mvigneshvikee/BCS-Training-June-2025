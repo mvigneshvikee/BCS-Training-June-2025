{
 "cells": [
  {
   "cell_type": "markdown",
   "id": "ebfa5abf",
   "metadata": {},
   "source": [
    "Task 1.1: Filtered Employee ID to Age Mapping\n",
    "From the same list of employee dictionaries, create a dictionary mapping employee IDs to ages, but only include those over 28.\n",
    "\n",
    "Expected Output:\n",
    "\n",
    "{101: 30, 103: 35}"
   ]
  },
  {
   "cell_type": "code",
   "execution_count": 6,
   "id": "1939712b",
   "metadata": {},
   "outputs": [
    {
     "data": {
      "text/plain": [
       "{101: 30, 103: 35}"
      ]
     },
     "execution_count": 6,
     "metadata": {},
     "output_type": "execute_result"
    }
   ],
   "source": [
    "employees = [\n",
    "    {\"id\": 101, \"name\": \"Alice\", \"age\": 30},\n",
    "    {\"id\": 102, \"name\": \"Bob\", \"age\": 25},\n",
    "    {\"id\": 103, \"name\": \"Charlie\", \"age\": 35}\n",
    "]\n",
    "def emp_details(employees):\n",
    "    result ={}\n",
    "    for employee in employees:\n",
    "        if employee['age'] >= 30:\n",
    "            result[employee['id']] = employee['age']\n",
    "    return result\n",
    "\n",
    "emp_details(employees)\n",
    "\n"
   ]
  },
  {
   "cell_type": "code",
   "execution_count": 7,
   "id": "04147aaf",
   "metadata": {},
   "outputs": [
    {
     "data": {
      "text/plain": [
       "{101: 30, 103: 35}"
      ]
     },
     "execution_count": 7,
     "metadata": {},
     "output_type": "execute_result"
    }
   ],
   "source": [
    "employees = [\n",
    "    {\"id\": 101, \"name\": \"Alice\", \"age\": 30},\n",
    "    {\"id\": 102, \"name\": \"Bob\", \"age\": 25},\n",
    "    {\"id\": 103, \"name\": \"Charlie\", \"age\": 35}\n",
    "]\n",
    "def emp_details(employees):\n",
    "    return {employee['id']:employee['age'] for employee in employees if employee['age'] >= 30}\n",
    "\n",
    "emp_details(employees)"
   ]
  },
  {
   "cell_type": "markdown",
   "id": "842632cf",
   "metadata": {},
   "source": [
    "Task 1.2: Filtering Fruits by Price\n",
    "Given a dictionary of fruits with their prices, filter it to include only fruits priced above 2.\n",
    "\n",
    "fruits = {'apple': 1.2, 'banana': 2.5, 'orange': 3.0, 'kiwi': 4.0}\n",
    "Expected Output:\n",
    "\n",
    "{'banana': 2.5, 'orange': 3.0, 'kiwi': 4.0}"
   ]
  },
  {
   "cell_type": "code",
   "execution_count": 1,
   "id": "25c47fb2",
   "metadata": {},
   "outputs": [
    {
     "data": {
      "text/plain": [
       "{'banana': 2.5, 'orange': 3.0, 'kiwi': 4.0}"
      ]
     },
     "execution_count": 1,
     "metadata": {},
     "output_type": "execute_result"
    }
   ],
   "source": [
    "fruits = {'apple': 1.2, 'banana': 2.5, 'orange': 3.0, 'kiwi': 4.0}\n",
    "def fruit(fruits):\n",
    "    res ={}\n",
    "    for key,value in fruits.items():\n",
    "        if value >=2.5:\n",
    "            res[key]=value\n",
    "    return res\n",
    "fruit(fruits)"
   ]
  },
  {
   "cell_type": "code",
   "execution_count": 3,
   "id": "85c5505b",
   "metadata": {},
   "outputs": [
    {
     "name": "stdout",
     "output_type": "stream",
     "text": [
      "{'banana': 2.5, 'orange': 3.0, 'kiwi': 4.0}\n"
     ]
    }
   ],
   "source": [
    "fruits = {'apple': 1.2, 'banana': 2.5, 'orange': 3.0, 'kiwi': 4.0}\n",
    "\n",
    "def fruit(fruits):\n",
    "    return {key:value for key,value in fruits.items() if value >=2.5}\n",
    "\n",
    "result = fruit(fruits)\n",
    "print(result)"
   ]
  },
  {
   "cell_type": "markdown",
   "id": "b3aa5ab3",
   "metadata": {},
   "source": [
    "Task 1.3: Odd/Even Classification\n",
    "Create a dictionary where keys are numbers from 1 to 10 and values are strings indicating whether the number is 'odd' or 'even'.\n",
    "\n",
    "Clue: Ternary operator\n",
    "\n",
    "Expected Output:\n",
    "\n",
    "{1: 'odd', 2: 'even', 3: 'odd', 4: 'even', 5: 'odd', 6: 'even', 7: 'odd', 8: 'even', 9: 'odd', 10: 'even'}"
   ]
  },
  {
   "cell_type": "code",
   "execution_count": 8,
   "id": "ac285b52",
   "metadata": {},
   "outputs": [
    {
     "name": "stdout",
     "output_type": "stream",
     "text": [
      "{1: 'odd', 2: 'even', 3: 'odd', 4: 'even', 5: 'odd', 6: 'even', 7: 'odd', 8: 'even', 9: 'odd', 10: 'even'}\n"
     ]
    }
   ],
   "source": [
    "result ={}\n",
    "def odd_even():\n",
    "    for i in range(1,11):\n",
    "        if i % 2 == 0:\n",
    "            result[i] = 'even' \n",
    "        else:\n",
    "            result[i] = 'odd'\n",
    "odd_even()\n",
    "print(result)"
   ]
  },
  {
   "cell_type": "code",
   "execution_count": 9,
   "id": "42533b39",
   "metadata": {},
   "outputs": [
    {
     "name": "stdout",
     "output_type": "stream",
     "text": [
      "{1: 'odd', 2: 'even', 3: 'odd', 4: 'even', 5: 'odd', 6: 'even', 7: 'odd', 8: 'even', 9: 'odd', 10: 'even'}\n"
     ]
    }
   ],
   "source": [
    "def odd_even():\n",
    "    return {i:'even' if i%2==0 else 'odd' for i in range(1,11) }\n",
    "print(odd_even())"
   ]
  },
  {
   "cell_type": "markdown",
   "id": "cf959642",
   "metadata": {},
   "source": [
    "#### Task 2 (Challenging)\n",
    "#### Use nested dictionary comprehension to create a dictionary of restaurants with items under $10\n",
    "\n",
    "#### Restaurant menus with emoji food items and prices\n",
    "restaurant_menus = [\n",
    "    {\"restaurant\": \"Italian Place\", \"menu\": {\"🍕\": 12.99, \"🍝\": 10.99, \"🥖\": 3.99, \"🥗\": 7.99}},\n",
    "    {\"restaurant\": \"Burger Joint\", \"menu\": {\"🍔\": 8.99, \"🍟\": 3.99, \"🥤\": 1.99, \"🍦\": 4.99}},\n",
    "    {\"restaurant\": \"Sushi Bar\", \"menu\": {\"🍣\": 15.99, \"🍜\": 12.99, \"🍙\": 6.99, \"🍶\": 9.99}},\n",
    "    {\"restaurant\": \"Health Spot\", \"menu\": {\"🥗\": 9.99, \"🥙\": 8.99, \"🥑\": 4.99, \"🥝\": 3.99}},\n",
    "]\n",
    "\n",
    "\n",
    "#### Expected output\n",
    "#### Output\n",
    "{\n",
    "    'Italian Place': {'🥖': 3.99, '🥗': 7.99},\n",
    "    'Burger Joint': {'🍔': 8.99, '🍟': 3.99, '🥤': 1.99, '🍦': 4.99},\n",
    "    'Sushi Bar': {'🍙': 6.99},\n",
    "    'Health Spot': {'🥙': 8.99, '🥑': 4.99, '🥝': 3.99}\n",
    "}\n",
    "     \n",
    "\n",
    "restaurant_menus = [\n",
    "    {\"restaurant\": \"Italian Place\", \"menu\": {\"🍕\": 12.99, \"🍝\": 10.99, \"🥖\": 3.99, \"🥗\": 7.99}},\n",
    "    {\"restaurant\": \"Burger Joint\", \"menu\": {\"🍔\": 8.99, \"🍟\": 3.99, \"🥤\": 1.99, \"🍦\": 4.99}},\n",
    "    {\"restaurant\": \"Sushi Bar\", \"menu\": {\"🍣\": 15.99, \"🍜\": 12.99, \"🍙\": 6.99, \"🍶\": 9.99}},\n",
    "    {\"restaurant\": \"Health Spot\", \"menu\": {\"🥗\": 9.99, \"🥙\": 8.99, \"🥑\": 4.99, \"🥝\": 3.99}},\n",
    "]\n",
    "\n",
    "#### Task 1.1 - Normal for loop\n",
    "\n",
    "def get_affordable_items(restaurant_menus):\n",
    "    pass\n",
    "\n",
    "\n",
    "#### Task 1.2 - Dict Comp####"
   ]
  },
  {
   "cell_type": "code",
   "execution_count": 11,
   "id": "952ada40",
   "metadata": {},
   "outputs": [],
   "source": [
    "restaurant_menus = [\n",
    "    {\"restaurant\": \"Italian Place\", \"menu\": {\"🍕\": 12.99, \"🍝\": 10.99, \"🥖\": 3.99, \"🥗\": 7.99}},\n",
    "    {\"restaurant\": \"Burger Joint\", \"menu\": {\"🍔\": 8.99, \"🍟\": 3.99, \"🥤\": 1.99, \"🍦\": 4.99}},\n",
    "    {\"restaurant\": \"Sushi Bar\", \"menu\": {\"🍣\": 15.99, \"🍜\": 12.99, \"🍙\": 6.99, \"🍶\": 9.99}},\n",
    "    {\"restaurant\": \"Health Spot\", \"menu\": {\"🥗\": 9.99, \"🥙\": 8.99, \"🥑\": 4.99, \"🥝\": 3.99}},\n",
    "]"
   ]
  },
  {
   "cell_type": "code",
   "execution_count": 25,
   "id": "b1155992",
   "metadata": {},
   "outputs": [
    {
     "name": "stdout",
     "output_type": "stream",
     "text": [
      "{'restaurant': 'Italian Place', 'menu': {'🍕': 12.99, '🍝': 10.99, '🥖': 3.99, '🥗': 7.99}}\n",
      "{'restaurant': 'Burger Joint', 'menu': {'🍔': 8.99, '🍟': 3.99, '🥤': 1.99, '🍦': 4.99}}\n",
      "{'restaurant': 'Sushi Bar', 'menu': {'🍣': 15.99, '🍜': 12.99, '🍙': 6.99, '🍶': 9.99}}\n",
      "{'restaurant': 'Health Spot', 'menu': {'🥗': 9.99, '🥙': 8.99, '🥑': 4.99, '🥝': 3.99}}\n"
     ]
    }
   ],
   "source": [
    "restaurant_menus = [\n",
    "    {\"restaurant\": \"Italian Place\", \"menu\": {\"🍕\": 12.99, \"🍝\": 10.99, \"🥖\": 3.99, \"🥗\": 7.99}},\n",
    "    {\"restaurant\": \"Burger Joint\", \"menu\": {\"🍔\": 8.99, \"🍟\": 3.99, \"🥤\": 1.99, \"🍦\": 4.99}},\n",
    "    {\"restaurant\": \"Sushi Bar\", \"menu\": {\"🍣\": 15.99, \"🍜\": 12.99, \"🍙\": 6.99, \"🍶\": 9.99}},\n",
    "    {\"restaurant\": \"Health Spot\", \"menu\": {\"🥗\": 9.99, \"🥙\": 8.99, \"🥑\": 4.99, \"🥝\": 3.99}},\n",
    "]\n",
    "# result = {}\n",
    "def get_affordable_items(restaurant_menus):\n",
    "    for items in restaurant_menus:\n",
    "        print(items)\n",
    "get_affordable_items(restaurant_menus)"
   ]
  }
 ],
 "metadata": {
  "kernelspec": {
   "display_name": "BCS Training June 2025",
   "language": "python",
   "name": "python3"
  },
  "language_info": {
   "codemirror_mode": {
    "name": "ipython",
    "version": 3
   },
   "file_extension": ".py",
   "mimetype": "text/x-python",
   "name": "python",
   "nbconvert_exporter": "python",
   "pygments_lexer": "ipython3",
   "version": "3.13.6"
  }
 },
 "nbformat": 4,
 "nbformat_minor": 5
}
