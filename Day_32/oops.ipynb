{
 "cells": [
  {
   "cell_type": "code",
   "execution_count": null,
   "id": "2d00112d",
   "metadata": {},
   "outputs": [
    {
     "name": "stdout",
     "output_type": "stream",
     "text": [
      "Ambassador\n",
      "Wrangler\n",
      "Harrier\n",
      "Romion\n"
     ]
    }
   ],
   "source": [
    "class Car:\n",
    "    def __init__(self, wheels, engine, model, doors):\n",
    "        self.wheels = wheels\n",
    "        self.engine = engine\n",
    "        self.model = model\n",
    "        self.doors = doors\n",
    "\n",
    "hindustan = Car(4, 'V4', \"Ambassador\", 4)\n",
    "jeep = Car(4, 'V6', \"Wrangler\", 5)\n",
    "tata = Car(4, 'V4', \"Harrier\", 4)\n",
    "toyato = Car(4, 'V6', \"Romion\", 4)\n",
    "print(hindustan.model)\n",
    "print(jeep.model)\n",
    "print(tata.model)\n",
    "print(toyato.model)"
   ]
  },
  {
   "cell_type": "code",
   "execution_count": 13,
   "id": "9e4bbc12",
   "metadata": {},
   "outputs": [
    {
     "name": "stdout",
     "output_type": "stream",
     "text": [
      "GopiKrishnan\n",
      "Vignesh\n",
      "Bala\n",
      "Initial Balance: 5_000\n",
      "Initial Balance: 5_000\n"
     ]
    }
   ],
   "source": [
    "class Account:\n",
    "    interest = 2\n",
    "    no_of_accounts = 0\n",
    "    def __init__(self, acc_no, name, balance):\n",
    "        self.acc_no = acc_no\n",
    "        self.name = name\n",
    "        self.balance = balance\n",
    "        Account.no_of_accounts += 1\n",
    "    def initial_balance(self):\n",
    "        return \"Initial Balance: 5_000\"\n",
    "    def display_balance(self):\n",
    "        return (f\"Your balance is: ₹{self.balance:,.2f}\")\n",
    "    def withdraw(self,amount):\n",
    "        if self.balance < amount:\n",
    "            return f\"Insufficient funds. {self.display_balance()}\"\n",
    "        elif amount < 100:\n",
    "            return \"Invalid Amount\"\n",
    "        else:\n",
    "            self.balance = self.balance - amount\n",
    "            return (f\"Success. {self.display_balance()}\")\n",
    "    def depoist(self, amount):\n",
    "        if amount < 0:\n",
    "            return \"Invalid Amount\"\n",
    "        else:\n",
    "            self.balance = self.balance + amount\n",
    "            return (f\"Success. {self.display_balance()}\")\n",
    "    # @classmethod\n",
    "    def apply_interest(self):\n",
    "        self.balance = (Account.interest/100)*self.balance + self.balance\n",
    "        return (f\"Success. {self.display_balance()}\")\n",
    "    @classmethod\n",
    "    def update_interest_rate(cls, num):\n",
    "        if num != 0 and num < 100:\n",
    "            cls.interest = num\n",
    "        return f\"Successfully. Recent Interest Value:{cls.interest}\"\n",
    "    def get_total_no_accounts():\n",
    "        return f\"Total number of Accounts: {Account.no_of_accounts}\"\n",
    "\n",
    "    \n",
    "\n",
    "\n",
    "\n",
    "\n",
    "gopi = Account(45678, \"GopiKrishnan\", 1_00_00_000)\n",
    "viki = Account(45679, \"Vignesh\", 10_00_000)\n",
    "bala = Account(45680, \"Bala\", 50_00_000)\n",
    "\n",
    "print(gopi.name)\n",
    "print(viki.name)\n",
    "print(bala.name)\n",
    "print(gopi.initial_balance())\n",
    "print(bala.initial_balance())"
   ]
  },
  {
   "cell_type": "code",
   "execution_count": 14,
   "id": "f287d8fc",
   "metadata": {},
   "outputs": [
    {
     "name": "stdout",
     "output_type": "stream",
     "text": [
      "Total number of Accounts: 3\n"
     ]
    }
   ],
   "source": [
    "print(Account.get_total_no_accounts())"
   ]
  },
  {
   "cell_type": "code",
   "execution_count": 40,
   "id": "e20e7380",
   "metadata": {},
   "outputs": [
    {
     "name": "stdout",
     "output_type": "stream",
     "text": [
      "Your balance is: ₹10,000,000.00\n",
      "Your balance is: ₹1,000,000.00\n",
      "Your balance is: ₹5,000,000.00\n"
     ]
    }
   ],
   "source": [
    "\n",
    "\n",
    "print(gopi.display_balance())\n",
    "print(viki.display_balance())\n",
    "print(bala.display_balance())"
   ]
  },
  {
   "cell_type": "markdown",
   "id": "cd35babc",
   "metadata": {},
   "source": [
    "Task 1.2\n",
    "print(vikki.withdraw(1_00_000))  # Success. Your balance is: ₹900,000.00\n",
    "print(vikki.display_balance())  # Your balance is: ₹900,000.00"
   ]
  },
  {
   "cell_type": "code",
   "execution_count": 41,
   "id": "bb280780",
   "metadata": {},
   "outputs": [
    {
     "name": "stdout",
     "output_type": "stream",
     "text": [
      "Your balance is: ₹10,000,000.00\n",
      "Success. Your balance is: ₹9,000,000.00\n",
      "Your balance is: ₹9,000,000.00\n"
     ]
    }
   ],
   "source": [
    "print(gopi.display_balance())\n",
    "\n",
    "print(gopi.withdraw(1000000))\n",
    "print(gopi.display_balance())"
   ]
  },
  {
   "cell_type": "markdown",
   "id": "056b90e2",
   "metadata": {},
   "source": [
    "Task 1.3\n",
    "print(bala.depoist(1_00_000))  # Success. Your balance is: ₹510,000.00\n",
    "print(bala.display_balance())  # Your balance is: ₹510,000.00"
   ]
  },
  {
   "cell_type": "code",
   "execution_count": 42,
   "id": "4a486268",
   "metadata": {},
   "outputs": [
    {
     "name": "stdout",
     "output_type": "stream",
     "text": [
      "Your balance is: ₹5,000,000.00\n",
      "Success. Your balance is: ₹5,100,000.00\n",
      "Your balance is: ₹5,100,000.00\n"
     ]
    }
   ],
   "source": [
    "print(bala.display_balance())\n",
    "\n",
    "print(bala.depoist(1_00_000))\n",
    "print(bala.display_balance())"
   ]
  },
  {
   "cell_type": "code",
   "execution_count": 57,
   "id": "1fe4d1a8",
   "metadata": {},
   "outputs": [
    {
     "name": "stdout",
     "output_type": "stream",
     "text": [
      "Your balance is: ₹10,824,321.60\n",
      "Your balance is: ₹1,082,432.16\n",
      "Your balance is: ₹5,412,160.80\n",
      "Success. Your balance is: ₹11,040,808.03\n",
      "Success. Your balance is: ₹1,104,080.80\n",
      "Success. Your balance is: ₹5,520,404.02\n",
      "Your balance is: ₹11,040,808.03\n",
      "Your balance is: ₹1,104,080.80\n",
      "Your balance is: ₹5,520,404.02\n"
     ]
    }
   ],
   "source": [
    "print(gopi.display_balance())\n",
    "print(viki.display_balance())\n",
    "print(bala.display_balance())\n",
    "print(gopi.apply_interest())\n",
    "print(viki.apply_interest())\n",
    "print(bala.apply_interest())\n",
    "print(gopi.display_balance())\n",
    "print(viki.display_balance())\n",
    "print(bala.display_balance())"
   ]
  },
  {
   "cell_type": "code",
   "execution_count": 10,
   "id": "bca08aff",
   "metadata": {},
   "outputs": [
    {
     "data": {
      "text/plain": [
       "1"
      ]
     },
     "execution_count": 10,
     "metadata": {},
     "output_type": "execute_result"
    }
   ],
   "source": [
    "Account.update_interest_rate(1)\n"
   ]
  },
  {
   "cell_type": "code",
   "execution_count": null,
   "id": "9eb0f52a",
   "metadata": {},
   "outputs": [
    {
     "name": "stdout",
     "output_type": "stream",
     "text": [
      "Your balance is: ₹12,166,529.02\n",
      "Your balance is: ₹1,216,652.90\n",
      "Your balance is: ₹6,083,264.51\n",
      "Success. Your balance is: ₹12,653,190.18\n",
      "Success. Your balance is: ₹1,265,319.02\n",
      "Success. Your balance is: ₹6,326,595.09\n",
      "Your balance is: ₹12,653,190.18\n",
      "Your balance is: ₹1,265,319.02\n",
      "Your balance is: ₹6,326,595.09\n"
     ]
    }
   ],
   "source": [
    "\n",
    "print(gopi.display_balance())\n",
    "print(viki.display_balance())\n",
    "print(bala.display_balance())\n",
    "print(gopi.apply_interest())\n",
    "print(viki.apply_interest())\n",
    "print(bala.apply_interest())\n",
    "print(gopi.display_balance())\n",
    "print(viki.display_balance())\n",
    "print(bala.display_balance())"
   ]
  }
 ],
 "metadata": {
  "kernelspec": {
   "display_name": "BCS Training June 2025",
   "language": "python",
   "name": "python3"
  },
  "language_info": {
   "codemirror_mode": {
    "name": "ipython",
    "version": 3
   },
   "file_extension": ".py",
   "mimetype": "text/x-python",
   "name": "python",
   "nbconvert_exporter": "python",
   "pygments_lexer": "ipython3",
   "version": "3.13.7"
  }
 },
 "nbformat": 4,
 "nbformat_minor": 5
}
