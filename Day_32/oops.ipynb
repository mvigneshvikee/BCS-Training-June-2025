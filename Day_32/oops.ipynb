{
 "cells": [
  {
   "cell_type": "code",
   "execution_count": null,
   "id": "2d00112d",
   "metadata": {},
   "outputs": [
    {
     "name": "stdout",
     "output_type": "stream",
     "text": [
      "Ambassador\n",
      "Wrangler\n",
      "Harrier\n",
      "Romion\n"
     ]
    }
   ],
   "source": [
    "class Car:\n",
    "    def __init__(self, wheels, engine, model, doors):\n",
    "        self.wheels = wheels\n",
    "        self.engine = engine\n",
    "        self.model = model\n",
    "        self.doors = doors\n",
    "\n",
    "hindustan = Car(4, 'V4', \"Ambassador\", 4)\n",
    "jeep = Car(4, 'V6', \"Wrangler\", 5)\n",
    "tata = Car(4, 'V4', \"Harrier\", 4)\n",
    "toyato = Car(4, 'V6', \"Romion\", 4)\n",
    "print(hindustan.model)\n",
    "print(jeep.model)\n",
    "print(tata.model)\n",
    "print(toyato.model)"
   ]
  },
  {
   "cell_type": "code",
   "execution_count": 7,
   "id": "9e4bbc12",
   "metadata": {},
   "outputs": [
    {
     "name": "stdout",
     "output_type": "stream",
     "text": [
      "GopiKrishnan\n",
      "Vignesh\n",
      "Bala\n",
      "Initial Balance: 5_000\n",
      "Initial Balance: 5_000\n"
     ]
    }
   ],
   "source": [
    "class Account:\n",
    "    def __init__(self, acc_no, name, balance):\n",
    "        self.acc_no = acc_no\n",
    "        self.name = name\n",
    "        self.balance = balance\n",
    "    def initial_balance(self):\n",
    "        return \"Initial Balance: 5_000\"\n",
    "\n",
    "acc_1 = Account(45678, \"GopiKrishnan\", 1_00_00_000)\n",
    "acc_2 = Account(45679, \"Vignesh\", 10_00_000)\n",
    "acc_3 = Account(45680, \"Bala\", 50_00_000)\n",
    "\n",
    "print(acc_1.name)\n",
    "print(acc_2.name)\n",
    "print(acc_3.name)\n",
    "print(acc_1.initial_balance())\n",
    "print(acc_3.initial_balance())"
   ]
  }
 ],
 "metadata": {
  "kernelspec": {
   "display_name": "BCS Training June 2025",
   "language": "python",
   "name": "python3"
  },
  "language_info": {
   "codemirror_mode": {
    "name": "ipython",
    "version": 3
   },
   "file_extension": ".py",
   "mimetype": "text/x-python",
   "name": "python",
   "nbconvert_exporter": "python",
   "pygments_lexer": "ipython3",
   "version": "3.13.7"
  }
 },
 "nbformat": 4,
 "nbformat_minor": 5
}
